{
 "cells": [
  {
   "cell_type": "markdown",
   "id": "dd66e028-a9c2-4f86-a01e-b0c71f3ef0c3",
   "metadata": {},
   "source": [
    "# WeeK 3 Mini Pro"
   ]
  },
  {
   "cell_type": "markdown",
   "id": "c2c699a4-1fa6-423a-b926-0b15c61549a3",
   "metadata": {},
   "source": [
    "## Lists"
   ]
  },
  {
   "cell_type": "code",
   "execution_count": 1481,
   "id": "2c42dbdd-5d20-4684-bb91-fe5575724910",
   "metadata": {},
   "outputs": [
    {
     "data": {
      "text/plain": [
       "[1, 3, 5, 7, 9, 11, 13, 15, 17, 19]"
      ]
     },
     "execution_count": 1481,
     "metadata": {},
     "output_type": "execute_result"
    }
   ],
   "source": [
    "#Creating a list\n",
    "my_list = [ i for i in range(20) if i%2 != 0]\n",
    "my_list"
   ]
  },
  {
   "cell_type": "code",
   "execution_count": 1482,
   "id": "16b88c64-9094-49db-a487-8f0328fd64a7",
   "metadata": {},
   "outputs": [
    {
     "data": {
      "text/plain": [
       "[1, 3, 5, 7, 9, 11, 13, 15, 17, 19, 4, 5, 6, 20, 6, 7, 8, 9]"
      ]
     },
     "execution_count": 1482,
     "metadata": {},
     "output_type": "execute_result"
    }
   ],
   "source": [
    "# adding to and extending a list\n",
    "my_list.extend([4,5,6])\n",
    "my_list.append(20)\n",
    "my_list + [6,7,8,9]"
   ]
  },
  {
   "cell_type": "code",
   "execution_count": 1483,
   "id": "9c6157c7-71d8-4f00-b90b-7c22ce605cb5",
   "metadata": {},
   "outputs": [],
   "source": [
    "#removing elements from a list \n",
    "my_list.pop(4)  # index wise removal \n",
    "my_list.remove(13) # element wise removal "
   ]
  },
  {
   "cell_type": "code",
   "execution_count": 1484,
   "id": "29664f5e-3823-45cc-b25c-acb4d03bf5b8",
   "metadata": {},
   "outputs": [
    {
     "data": {
      "text/plain": [
       "[1, 3, 4, 5, 5, 6, 7, 11, 15, 17, 19, 20]"
      ]
     },
     "execution_count": 1484,
     "metadata": {},
     "output_type": "execute_result"
    }
   ],
   "source": [
    "# rearranging the list\n",
    "my_list.sort() # sorting in ascending order\n",
    "my_list"
   ]
  },
  {
   "cell_type": "code",
   "execution_count": 1485,
   "id": "f81aa1ef-e629-4b09-90a5-6ec35f866806",
   "metadata": {},
   "outputs": [
    {
     "data": {
      "text/plain": [
       "[20, 19, 17, 15, 11, 7, 6, 5, 5, 4, 3, 1]"
      ]
     },
     "execution_count": 1485,
     "metadata": {},
     "output_type": "execute_result"
    }
   ],
   "source": [
    "my_list.reverse() # reverisng the list\n",
    "my_list"
   ]
  },
  {
   "cell_type": "code",
   "execution_count": 1486,
   "id": "3a1e7a3c-13af-41d2-8e6b-626a84f972bf",
   "metadata": {},
   "outputs": [
    {
     "data": {
      "text/plain": [
       "[20, 19, 17, 15, 11, 7, 6, 5, 5]"
      ]
     },
     "execution_count": 1486,
     "metadata": {},
     "output_type": "execute_result"
    }
   ],
   "source": [
    "#list slicing and indexing\n",
    "my_list1 = my_list[:9]\n",
    "my_list1"
   ]
  },
  {
   "cell_type": "code",
   "execution_count": 1487,
   "id": "f08d04d9-9f27-4f63-92fa-9300d86550eb",
   "metadata": {},
   "outputs": [
    {
     "data": {
      "text/plain": [
       "[17, 15, 11, 7, 6, 5]"
      ]
     },
     "execution_count": 1487,
     "metadata": {},
     "output_type": "execute_result"
    }
   ],
   "source": [
    "my_list2 = my_list1[2:-1]\n",
    "my_list2"
   ]
  },
  {
   "cell_type": "code",
   "execution_count": 1488,
   "id": "2a699e13-5c7e-4957-b88f-74d618a94b7a",
   "metadata": {},
   "outputs": [
    {
     "name": "stdout",
     "output_type": "stream",
     "text": [
      "True\n",
      "True\n",
      "True\n",
      "True\n",
      "True\n",
      "True\n",
      "True\n",
      "True\n",
      "True\n",
      "False\n",
      "False\n",
      "False\n"
     ]
    }
   ],
   "source": [
    "for i in range(len(my_list)):\n",
    "    if my_list[i] in my_list1:\n",
    "        print(True)\n",
    "    else:\n",
    "        print(False)"
   ]
  },
  {
   "cell_type": "markdown",
   "id": "8cd99b89-d673-492b-849e-52c40693b875",
   "metadata": {},
   "source": [
    "## Sets"
   ]
  },
  {
   "cell_type": "code",
   "execution_count": 1489,
   "id": "1cf7fb9e-ef6b-47b2-a0ac-e3219d48ac7b",
   "metadata": {},
   "outputs": [
    {
     "data": {
      "text/plain": [
       "{2, 6, 8}"
      ]
     },
     "execution_count": 1489,
     "metadata": {},
     "output_type": "execute_result"
    }
   ],
   "source": [
    "#creating my sets\n",
    "my_set0 = {i*2 for i in my_list if i not in my_list1 and i >=1}\n",
    "my_set0"
   ]
  },
  {
   "cell_type": "code",
   "execution_count": 1490,
   "id": "1aff6576-67fd-46e7-911a-e53945f6f96f",
   "metadata": {},
   "outputs": [
    {
     "data": {
      "text/plain": [
       "{1, 3, 4, 5, 6, 7, 11, 15, 17, 19, 20}"
      ]
     },
     "execution_count": 1490,
     "metadata": {},
     "output_type": "execute_result"
    }
   ],
   "source": [
    "my_set1 = {1,2,3,4,5,6}\n",
    "my_set2 = set(my_list)\n",
    "my_set2"
   ]
  },
  {
   "cell_type": "markdown",
   "id": "da5277b6-f9a7-447b-b441-c4e1e5e8dd47",
   "metadata": {},
   "source": [
    "## set operations"
   ]
  },
  {
   "cell_type": "code",
   "execution_count": 1491,
   "id": "35d6b624-92ab-4aff-a339-dd728759fe92",
   "metadata": {},
   "outputs": [
    {
     "data": {
      "text/plain": [
       "{2, 6}"
      ]
     },
     "execution_count": 1491,
     "metadata": {},
     "output_type": "execute_result"
    }
   ],
   "source": [
    "my_set0 & my_set1 # intersection"
   ]
  },
  {
   "cell_type": "code",
   "execution_count": 1492,
   "id": "69dd4d9e-8d96-46e2-82ee-11a6783d9edc",
   "metadata": {},
   "outputs": [
    {
     "data": {
      "text/plain": [
       "8"
      ]
     },
     "execution_count": 1492,
     "metadata": {},
     "output_type": "execute_result"
    }
   ],
   "source": [
    "a,b,c = my_set0 #unpacking \n",
    "a"
   ]
  },
  {
   "cell_type": "code",
   "execution_count": 1493,
   "id": "29516038-b7f7-4757-9164-9572452d26ab",
   "metadata": {},
   "outputs": [
    {
     "data": {
      "text/plain": [
       "{1, 2, 3, 4, 5, 6, 7, 11, 15, 17, 19, 20}"
      ]
     },
     "execution_count": 1493,
     "metadata": {},
     "output_type": "execute_result"
    }
   ],
   "source": [
    "my_set2 | my_set1 # union"
   ]
  },
  {
   "cell_type": "code",
   "execution_count": 1494,
   "id": "98b5efae-4a84-4c2b-b279-4b64194bb712",
   "metadata": {},
   "outputs": [
    {
     "data": {
      "text/plain": [
       "{1, 2, 3, 4, 5, 7, 8, 11, 15, 17, 19, 20}"
      ]
     },
     "execution_count": 1494,
     "metadata": {},
     "output_type": "execute_result"
    }
   ],
   "source": [
    "my_set2 ^ my_set0 # exclusive or"
   ]
  },
  {
   "cell_type": "code",
   "execution_count": 1495,
   "id": "db31aae8-140f-41e4-a1df-5979e1ab776f",
   "metadata": {},
   "outputs": [
    {
     "data": {
      "text/plain": [
       "{6, 8}"
      ]
     },
     "execution_count": 1495,
     "metadata": {},
     "output_type": "execute_result"
    }
   ],
   "source": [
    "my_set0.remove(2)\n",
    "my_set0"
   ]
  },
  {
   "cell_type": "code",
   "execution_count": 1496,
   "id": "0c1b1c08-e4e5-4e1e-bde0-0f7c90996c48",
   "metadata": {},
   "outputs": [
    {
     "data": {
      "text/plain": [
       "{6}"
      ]
     },
     "execution_count": 1496,
     "metadata": {},
     "output_type": "execute_result"
    }
   ],
   "source": [
    "my_set0.pop()\n",
    "my_set0"
   ]
  },
  {
   "cell_type": "code",
   "execution_count": 1497,
   "id": "98f5ed18-8d48-458f-b461-0ff4f43f8e74",
   "metadata": {},
   "outputs": [
    {
     "data": {
      "text/plain": [
       "{1, 3, 4, 5, 6, 7, 11, 15, 17, 19, 20}"
      ]
     },
     "execution_count": 1497,
     "metadata": {},
     "output_type": "execute_result"
    }
   ],
   "source": [
    "my_set0 |= my_set2\n",
    "my_set0"
   ]
  },
  {
   "cell_type": "markdown",
   "id": "9b9e5946-9430-489e-9c48-f29555488b9c",
   "metadata": {},
   "source": [
    "## Tuples"
   ]
  },
  {
   "cell_type": "code",
   "execution_count": 1498,
   "id": "6086d4f3-268d-427d-9be4-f30297ba3a3d",
   "metadata": {},
   "outputs": [
    {
     "data": {
      "text/plain": [
       "(1, 3, 4, 5, 6, 7, 11, 15, 17, 19, 20)"
      ]
     },
     "execution_count": 1498,
     "metadata": {},
     "output_type": "execute_result"
    }
   ],
   "source": [
    "# creating tuples \n",
    "my_tuple0 = (1,)\n",
    "my_tuple1 = tuple(my_set0)\n",
    "my_tuple1"
   ]
  },
  {
   "cell_type": "code",
   "execution_count": 1499,
   "id": "1876f2be-d407-4446-bdea-6bda68f7f7dc",
   "metadata": {},
   "outputs": [
    {
     "data": {
      "text/plain": [
       "(1, 3, 4, 5, 6, 7, 11, 15, 17, 19, 20, 1)"
      ]
     },
     "execution_count": 1499,
     "metadata": {},
     "output_type": "execute_result"
    }
   ],
   "source": [
    "my_tuple2 = my_tuple1 + my_tuple0 # adding two tuples\n",
    "my_tuple2"
   ]
  },
  {
   "cell_type": "code",
   "execution_count": 1500,
   "id": "a24a0d09-fca2-453a-9b9e-ac984659b315",
   "metadata": {},
   "outputs": [
    {
     "name": "stdout",
     "output_type": "stream",
     "text": [
      "An error occurred: 'tuple' object does not support item assignment\n"
     ]
    }
   ],
   "source": [
    "# tuples are immutable \n",
    "try:\n",
    "    my_tuple2[0] = 7\n",
    "except Exception as e:\n",
    "    print(f\"An error occurred: {e}\")"
   ]
  },
  {
   "cell_type": "code",
   "execution_count": 1501,
   "id": "d45cc764-5058-433b-ac5b-5c5aba494f0d",
   "metadata": {},
   "outputs": [
    {
     "name": "stdout",
     "output_type": "stream",
     "text": [
      "The element 1 is at index 0\n",
      "The element 3 is at index 1\n",
      "The element 4 is at index 2\n",
      "The element 5 is at index 3\n",
      "The element 6 is at index 4\n",
      "The element 7 is at index 5\n",
      "The element 11 is at index 6\n",
      "The element 15 is at index 7\n",
      "The element 17 is at index 8\n",
      "The element 19 is at index 9\n",
      "The element 20 is at index 10\n"
     ]
    }
   ],
   "source": [
    "#iteration over a tuple \n",
    "for index,value in enumerate(my_tuple1):\n",
    "    print(f\"The element {value} is at index {index}\")"
   ]
  },
  {
   "cell_type": "code",
   "execution_count": 1502,
   "id": "8260747b-37b8-4bd3-a40f-81863cf0f8c5",
   "metadata": {},
   "outputs": [
    {
     "data": {
      "text/plain": [
       "(1, 'a', [2, 3, 4], {2, 4, 5})"
      ]
     },
     "execution_count": 1502,
     "metadata": {},
     "output_type": "execute_result"
    }
   ],
   "source": [
    "# tuples can store different data types even mutable ones \n",
    "my_tuple3 = (1,\"a\",[2,3,4],{2,4,5,5})\n",
    "my_tuple3"
   ]
  },
  {
   "cell_type": "markdown",
   "id": "173407c6-52bf-4ad7-b335-93ba9f11136b",
   "metadata": {},
   "source": [
    "## Dictionaries "
   ]
  },
  {
   "cell_type": "code",
   "execution_count": 1503,
   "id": "0ff75c1f-a6a5-4a8e-9614-492602428864",
   "metadata": {},
   "outputs": [
    {
     "data": {
      "text/plain": [
       "{'0': 1,\n",
       " '1': 3,\n",
       " '2': 4,\n",
       " '3': 5,\n",
       " '4': 6,\n",
       " '5': 7,\n",
       " '6': 11,\n",
       " '7': 15,\n",
       " '8': 17,\n",
       " '9': 19,\n",
       " '10': 20}"
      ]
     },
     "execution_count": 1503,
     "metadata": {},
     "output_type": "execute_result"
    }
   ],
   "source": [
    "my_dict = { str(index): value for index,value in enumerate(my_tuple1)}\n",
    "my_dict"
   ]
  },
  {
   "cell_type": "code",
   "execution_count": 1504,
   "id": "be85c5bc-c55c-412f-955e-bf2f85b68f20",
   "metadata": {},
   "outputs": [
    {
     "data": {
      "text/plain": [
       "5"
      ]
     },
     "execution_count": 1504,
     "metadata": {},
     "output_type": "execute_result"
    }
   ],
   "source": [
    "#ascessing elements with their keys \n",
    "my_dict[\"3\"] "
   ]
  },
  {
   "cell_type": "code",
   "execution_count": 1505,
   "id": "9ee0dbd1-53ed-45e9-a25e-8586cc602767",
   "metadata": {},
   "outputs": [
    {
     "name": "stdout",
     "output_type": "stream",
     "text": [
      "Element not found\n"
     ]
    }
   ],
   "source": [
    "#using the get method to avoid KeyError if element not in my_dict\n",
    "try:\n",
    "    my_dict[\"20\"]\n",
    "except KeyError:\n",
    "    print(my_dict.get(\"20\", \"Element not found\"))"
   ]
  },
  {
   "cell_type": "code",
   "execution_count": 1506,
   "id": "23bd65d6-deb6-4afe-8aa7-30c74ac7e214",
   "metadata": {},
   "outputs": [
    {
     "data": {
      "text/plain": [
       "{'0': 1,\n",
       " '1': 3,\n",
       " '2': 4,\n",
       " '3': 5,\n",
       " '4': 6,\n",
       " '5': 7,\n",
       " '6': 11,\n",
       " '7': 15,\n",
       " '8': 17,\n",
       " '9': 19,\n",
       " '10': 20,\n",
       " 'a': 7}"
      ]
     },
     "execution_count": 1506,
     "metadata": {},
     "output_type": "execute_result"
    }
   ],
   "source": [
    "#adding a new key value pair\n",
    "my_dict[\"a\"] = 7\n",
    "my_dict"
   ]
  },
  {
   "cell_type": "code",
   "execution_count": 1507,
   "id": "d93ecb1e-2ad8-485f-895f-de336c839123",
   "metadata": {},
   "outputs": [
    {
     "data": {
      "text/plain": [
       "{'0': 1,\n",
       " '1': 3,\n",
       " '2': 4,\n",
       " '3': 5,\n",
       " '4': 6,\n",
       " '5': 7,\n",
       " '6': 11,\n",
       " '7': 15,\n",
       " '8': 17,\n",
       " '9': 19,\n",
       " '10': 20,\n",
       " 'a': 14}"
      ]
     },
     "execution_count": 1507,
     "metadata": {},
     "output_type": "execute_result"
    }
   ],
   "source": [
    "#changing an existing key's value \n",
    "my_dict[\"a\"] +=7\n",
    "my_dict"
   ]
  },
  {
   "cell_type": "code",
   "execution_count": 1508,
   "id": "a05b6099-1dad-468e-8557-50fd9289b241",
   "metadata": {},
   "outputs": [
    {
     "data": {
      "text/plain": [
       "['0', '1', '2', '3', '4', '5', '6', '7', '8', '9', '10', 'a']"
      ]
     },
     "execution_count": 1508,
     "metadata": {},
     "output_type": "execute_result"
    }
   ],
   "source": [
    "# getting the key of a dict \n",
    "list(my_dict.keys())"
   ]
  },
  {
   "cell_type": "code",
   "execution_count": 1509,
   "id": "b6f000e0-295c-4011-b4cc-c91262f48062",
   "metadata": {},
   "outputs": [
    {
     "data": {
      "text/plain": [
       "{'0': 1,\n",
       " '1': 3,\n",
       " '2': 4,\n",
       " '3': 5,\n",
       " '4': 4,\n",
       " '5': 5,\n",
       " '6': 6,\n",
       " '7': 15,\n",
       " '8': 17,\n",
       " '9': 19,\n",
       " '10': 20,\n",
       " 'a': 14}"
      ]
     },
     "execution_count": 1509,
     "metadata": {},
     "output_type": "execute_result"
    }
   ],
   "source": [
    "#Updating with existing keys overrides their original values\n",
    "my_dict.update({\n",
    "    \"4\":4,\n",
    "    \"5\":5,\n",
    "    \"6\":6\n",
    "})\n",
    "my_dict"
   ]
  },
  {
   "cell_type": "code",
   "execution_count": 1510,
   "id": "852ca71e-d677-42f8-b24d-4371f0db8215",
   "metadata": {},
   "outputs": [
    {
     "data": {
      "text/plain": [
       "{'1': 3,\n",
       " '2': 4,\n",
       " '3': 5,\n",
       " '4': 4,\n",
       " '5': 5,\n",
       " '6': 6,\n",
       " '7': 15,\n",
       " '8': 17,\n",
       " '9': 19,\n",
       " '10': 20,\n",
       " 'a': 14}"
      ]
     },
     "execution_count": 1510,
     "metadata": {},
     "output_type": "execute_result"
    }
   ],
   "source": [
    "# removing items \n",
    "my_dict.pop(\"0\", None)  # Returns None if key does not exist\n",
    "my_dict\n",
    "\n"
   ]
  },
  {
   "cell_type": "code",
   "execution_count": 1511,
   "id": "0edb4897-3fb8-4a2e-a6c6-2528ddf2bcb3",
   "metadata": {},
   "outputs": [
    {
     "data": {
      "text/plain": [
       "{'2': 4,\n",
       " '3': 5,\n",
       " '4': 4,\n",
       " '5': 5,\n",
       " '6': 6,\n",
       " '7': 15,\n",
       " '8': 17,\n",
       " '9': 19,\n",
       " '10': 20,\n",
       " 'a': 14}"
      ]
     },
     "execution_count": 1511,
     "metadata": {},
     "output_type": "execute_result"
    }
   ],
   "source": [
    "del my_dict[\"1\"] # using the del keyword \n",
    "my_dict"
   ]
  },
  {
   "cell_type": "markdown",
   "id": "6e7007ab-ebcb-4261-b8b6-04012e976dce",
   "metadata": {},
   "source": [
    "## File I/O"
   ]
  },
  {
   "cell_type": "code",
   "execution_count": 1512,
   "id": "ef27b3af-0f4a-44de-aa06-91cca24d6bf7",
   "metadata": {},
   "outputs": [
    {
     "name": "stdout",
     "output_type": "stream",
     "text": [
      "Beasts of England,\n",
      "Beasts of every land and clime,\n",
      "Hearken to my joyful tidings\n",
      "Of the golden future time.\n",
      "\n",
      "Soon or late the day is coming,\n",
      "Tyrant Man shall be o’erthrown,\n",
      "And the fruitful fields of England\n",
      "Shall be trod by beasts alone.\n",
      "\n",
      "Rings shall vanish from our noses,\n",
      "And the harness from our back,\n",
      "Bit and spur shall rust forever,\n",
      "Cruel whips no more shall crack.\n",
      "\n",
      "Riches more than mind can picture,\n",
      "Wheat and barley, oats and hay,\n",
      "Clover, beans, and mangel-wurzels\n",
      "Shall be ours upon that day.\n",
      "\n",
      "Bright will shine the fields of England,\n",
      "Purer shall its waters be,\n",
      "Sweeter yet shall blow its breezes\n",
      "On the day that sets us free.\n",
      "\n",
      "For that day we all must labour,\n",
      "Though we die before it break;\n",
      "Cows and horses, geese and turkeys,\n",
      "All must toil for freedom’s sake.\n",
      "\n",
      "Beasts of England,\n",
      "Beasts of every land and clime,\n",
      "Hearken well and spread my tidings\n",
      "Of the golden future time\n",
      "\n"
     ]
    },
    {
     "data": {
      "text/plain": [
       "['Beasts of England,\\n',\n",
       " 'Beasts of every land and clime,\\n',\n",
       " 'Hearken to my joyful tidings\\n',\n",
       " 'Of the golden future time.\\n',\n",
       " '\\n',\n",
       " 'Soon or late the day is coming,\\n',\n",
       " 'Tyrant Man shall be o’erthrown,\\n',\n",
       " 'And the fruitful fields of England\\n',\n",
       " 'Shall be trod by beasts alone.\\n',\n",
       " '\\n',\n",
       " 'Rings shall vanish from our noses,\\n',\n",
       " 'And the harness from our back,\\n',\n",
       " 'Bit and spur shall rust forever,\\n',\n",
       " 'Cruel whips no more shall crack.\\n',\n",
       " '\\n',\n",
       " 'Riches more than mind can picture,\\n',\n",
       " 'Wheat and barley, oats and hay,\\n',\n",
       " 'Clover, beans, and mangel-wurzels\\n',\n",
       " 'Shall be ours upon that day.\\n',\n",
       " '\\n',\n",
       " 'Bright will shine the fields of England,\\n',\n",
       " 'Purer shall its waters be,\\n',\n",
       " 'Sweeter yet shall blow its breezes\\n',\n",
       " 'On the day that sets us free.\\n',\n",
       " '\\n',\n",
       " 'For that day we all must labour,\\n',\n",
       " 'Though we die before it break;\\n',\n",
       " 'Cows and horses, geese and turkeys,\\n',\n",
       " 'All must toil for freedom’s sake.\\n',\n",
       " '\\n',\n",
       " 'Beasts of England,\\n',\n",
       " 'Beasts of every land and clime,\\n',\n",
       " 'Hearken well and spread my tidings\\n',\n",
       " 'Of the golden future time\\n']"
      ]
     },
     "execution_count": 1512,
     "metadata": {},
     "output_type": "execute_result"
    }
   ],
   "source": [
    "#fixing the lyrics of the animal farm \n",
    "missing_lyric = \" beasts of Ireland,\"\n",
    "with open(\"lyrics.txt\", encoding=\"utf-8\") as farm_song:\n",
    "    print(farm_song.read())\n",
    "    farm_song.seek(0)\n",
    "    content = farm_song.readlines()\n",
    "content"
   ]
  },
  {
   "cell_type": "code",
   "execution_count": 1513,
   "id": "73376f01-4056-4f81-a9b1-853b546c9540",
   "metadata": {},
   "outputs": [
    {
     "data": {
      "text/plain": [
       "['Beasts of England, beasts of Ireland,\\n',\n",
       " 'Beasts of every land and clime,\\n',\n",
       " 'Hearken to my joyful tidings\\n',\n",
       " 'Of the golden future time.\\n']"
      ]
     },
     "execution_count": 1513,
     "metadata": {},
     "output_type": "execute_result"
    }
   ],
   "source": [
    "for index in range(len(content)):\n",
    "    if 'Beasts of England' in content[index]:\n",
    "        content[index] = content[index].strip() + f\"{missing_lyric}\\n\"\n",
    "content[:4]\n",
    "        \n",
    "    "
   ]
  },
  {
   "cell_type": "code",
   "execution_count": 1514,
   "id": "d083b2a1-bc7e-42a8-b30e-79f8d1dd4b7f",
   "metadata": {},
   "outputs": [
    {
     "name": "stdout",
     "output_type": "stream",
     "text": [
      "Beasts of England, beasts of Ireland,\n",
      "Beasts of every land and clime,\n",
      "Hearken to my joyful tidings\n",
      "Of the golden future time.\n",
      "\n",
      "Soon or late the day is coming,\n",
      "Tyrant Man shall be o’erthrown,\n",
      "And the fruitful fields of England\n",
      "Shall be trod by beasts alone.\n",
      "\n",
      "Rings shall vanish from our noses,\n",
      "And the harness from our back,\n",
      "Bit and spur shall rust forever,\n",
      "Cruel whips no more shall crack.\n",
      "\n",
      "Riches more than mind can picture,\n",
      "Wheat and barley, oats and hay,\n",
      "Clover, beans, and mangel-wurzels\n",
      "Shall be ours upon that day.\n",
      "\n",
      "Bright will shine the fields of England,\n",
      "Purer shall its waters be,\n",
      "Sweeter yet shall blow its breezes\n",
      "On the day that sets us free.\n",
      "\n",
      "For that day we all must labour,\n",
      "Though we die before it break;\n",
      "Cows and horses, geese and turkeys,\n",
      "All must toil for freedom’s sake.\n",
      "\n",
      "Beasts of England, beasts of Ireland,\n",
      "Beasts of every land and clime,\n",
      "Hearken well and spread my tidings\n",
      "Of the golden future time\n",
      "\n"
     ]
    }
   ],
   "source": [
    "# creating a new file wi the correct lyrics\n",
    "with open(\"correct_lyrics.txt\",\"w+\", encoding=\"utf-8\") as farm_song:\n",
    "     for line in content:\n",
    "         farm_song.write(line)\n",
    "     farm_song.seek(0)\n",
    "     print(farm_song.read())"
   ]
  }
 ],
 "metadata": {
  "kernelspec": {
   "display_name": "Python 3 (ipykernel)",
   "language": "python",
   "name": "python3"
  },
  "language_info": {
   "codemirror_mode": {
    "name": "ipython",
    "version": 3
   },
   "file_extension": ".py",
   "mimetype": "text/x-python",
   "name": "python",
   "nbconvert_exporter": "python",
   "pygments_lexer": "ipython3",
   "version": "3.11.13"
  }
 },
 "nbformat": 4,
 "nbformat_minor": 5
}
